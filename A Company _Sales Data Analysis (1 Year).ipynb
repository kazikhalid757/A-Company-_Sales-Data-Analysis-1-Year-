{
 "cells": [
  {
   "cell_type": "code",
   "execution_count": 72,
   "id": "ce642db4",
   "metadata": {},
   "outputs": [],
   "source": [
    "\n",
    "import matplotlib.pyplot as plt\n",
    "import pandas as pd\n",
    "%matplotlib inline\n"
   ]
  },
  {
   "cell_type": "code",
   "execution_count": 73,
   "id": "425fc073",
   "metadata": {},
   "outputs": [
    {
     "data": {
      "text/html": [
       "<div>\n",
       "<style scoped>\n",
       "    .dataframe tbody tr th:only-of-type {\n",
       "        vertical-align: middle;\n",
       "    }\n",
       "\n",
       "    .dataframe tbody tr th {\n",
       "        vertical-align: top;\n",
       "    }\n",
       "\n",
       "    .dataframe thead th {\n",
       "        text-align: right;\n",
       "    }\n",
       "</style>\n",
       "<table border=\"1\" class=\"dataframe\">\n",
       "  <thead>\n",
       "    <tr style=\"text-align: right;\">\n",
       "      <th></th>\n",
       "      <th>Order ID</th>\n",
       "      <th>Product</th>\n",
       "      <th>Quantity Ordered</th>\n",
       "      <th>Price Each</th>\n",
       "      <th>Order Date</th>\n",
       "      <th>Purchase Address</th>\n",
       "    </tr>\n",
       "  </thead>\n",
       "  <tbody>\n",
       "    <tr>\n",
       "      <th>0</th>\n",
       "      <td>150502</td>\n",
       "      <td>iPhone</td>\n",
       "      <td>1</td>\n",
       "      <td>700.00</td>\n",
       "      <td>2/18/2019 1:35</td>\n",
       "      <td>866 Spruce St, Portland, ME 04101</td>\n",
       "    </tr>\n",
       "    <tr>\n",
       "      <th>1</th>\n",
       "      <td>150503</td>\n",
       "      <td>AA Batteries (4-pack)</td>\n",
       "      <td>1</td>\n",
       "      <td>3.84</td>\n",
       "      <td>2/13/2019 7:24</td>\n",
       "      <td>18 13th St, San Francisco, CA 94016</td>\n",
       "    </tr>\n",
       "    <tr>\n",
       "      <th>2</th>\n",
       "      <td>150504</td>\n",
       "      <td>27in 4K Gaming Monitor</td>\n",
       "      <td>1</td>\n",
       "      <td>389.99</td>\n",
       "      <td>2/18/2019 9:46</td>\n",
       "      <td>52 6th St, New York City, NY 10001</td>\n",
       "    </tr>\n",
       "    <tr>\n",
       "      <th>3</th>\n",
       "      <td>150505</td>\n",
       "      <td>Lightning Charging Cable</td>\n",
       "      <td>1</td>\n",
       "      <td>14.95</td>\n",
       "      <td>2/2/2019 16:47</td>\n",
       "      <td>129 Cherry St, Atlanta, GA 30301</td>\n",
       "    </tr>\n",
       "    <tr>\n",
       "      <th>4</th>\n",
       "      <td>150506</td>\n",
       "      <td>AA Batteries (4-pack)</td>\n",
       "      <td>2</td>\n",
       "      <td>3.84</td>\n",
       "      <td>2/28/2019 20:32</td>\n",
       "      <td>548 Lincoln St, Seattle, WA 98101</td>\n",
       "    </tr>\n",
       "  </tbody>\n",
       "</table>\n",
       "</div>"
      ],
      "text/plain": [
       "   Order ID                   Product  Quantity Ordered  Price Each  \\\n",
       "0    150502                    iPhone                 1      700.00   \n",
       "1    150503     AA Batteries (4-pack)                 1        3.84   \n",
       "2    150504    27in 4K Gaming Monitor                 1      389.99   \n",
       "3    150505  Lightning Charging Cable                 1       14.95   \n",
       "4    150506     AA Batteries (4-pack)                 2        3.84   \n",
       "\n",
       "        Order Date                     Purchase Address  \n",
       "0   2/18/2019 1:35    866 Spruce St, Portland, ME 04101  \n",
       "1   2/13/2019 7:24  18 13th St, San Francisco, CA 94016  \n",
       "2   2/18/2019 9:46   52 6th St, New York City, NY 10001  \n",
       "3   2/2/2019 16:47     129 Cherry St, Atlanta, GA 30301  \n",
       "4  2/28/2019 20:32    548 Lincoln St, Seattle, WA 98101  "
      ]
     },
     "execution_count": 73,
     "metadata": {},
     "output_type": "execute_result"
    }
   ],
   "source": [
    "url=\"D:\\Data Science\\My All Project\\Supermarket_sales_Data Analysis 1\\Project 2\\Sales data_2019_exported.csv\"\n",
    "df=pd.read_csv(url)\n",
    "\n",
    "df.head()\n",
    "\n"
   ]
  },
  {
   "cell_type": "markdown",
   "id": "ec9da35b",
   "metadata": {},
   "source": [
    "### What is the total number of sales?"
   ]
  },
  {
   "cell_type": "code",
   "execution_count": 74,
   "id": "4e989964",
   "metadata": {},
   "outputs": [
    {
     "name": "stdout",
     "output_type": "stream",
     "text": [
      "Total Sales Product: 209079\n",
      "Total Sales Amount: 34289130.68\n"
     ]
    }
   ],
   "source": [
    "print('Total Sales Product:',df['Quantity Ordered'].sum())\n",
    "\n",
    "print('Total Sales Amount:',df['Price Each'].sum())"
   ]
  },
  {
   "cell_type": "markdown",
   "id": "ae77f23c",
   "metadata": {},
   "source": [
    "### What is the average sales per month? "
   ]
  },
  {
   "cell_type": "code",
   "execution_count": 75,
   "id": "fddc338a",
   "metadata": {},
   "outputs": [
    {
     "data": {
      "text/html": [
       "<div>\n",
       "<style scoped>\n",
       "    .dataframe tbody tr th:only-of-type {\n",
       "        vertical-align: middle;\n",
       "    }\n",
       "\n",
       "    .dataframe tbody tr th {\n",
       "        vertical-align: top;\n",
       "    }\n",
       "\n",
       "    .dataframe thead th {\n",
       "        text-align: right;\n",
       "    }\n",
       "</style>\n",
       "<table border=\"1\" class=\"dataframe\">\n",
       "  <thead>\n",
       "    <tr style=\"text-align: right;\">\n",
       "      <th></th>\n",
       "      <th>Order ID</th>\n",
       "      <th>Product</th>\n",
       "      <th>Quantity Ordered</th>\n",
       "      <th>Price Each</th>\n",
       "      <th>Order Date</th>\n",
       "      <th>Purchase Address</th>\n",
       "    </tr>\n",
       "  </thead>\n",
       "  <tbody>\n",
       "    <tr>\n",
       "      <th>127157</th>\n",
       "      <td>147268</td>\n",
       "      <td>Wired Headphones</td>\n",
       "      <td>1</td>\n",
       "      <td>11.99</td>\n",
       "      <td>2019-01-01 03:07:00</td>\n",
       "      <td>9 Lake St, New York City, NY 10001</td>\n",
       "    </tr>\n",
       "    <tr>\n",
       "      <th>127967</th>\n",
       "      <td>148041</td>\n",
       "      <td>USB-C Charging Cable</td>\n",
       "      <td>1</td>\n",
       "      <td>11.95</td>\n",
       "      <td>2019-01-01 03:40:00</td>\n",
       "      <td>760 Church St, San Francisco, CA 94016</td>\n",
       "    </tr>\n",
       "    <tr>\n",
       "      <th>129320</th>\n",
       "      <td>149343</td>\n",
       "      <td>Apple Airpods Headphones</td>\n",
       "      <td>1</td>\n",
       "      <td>150.00</td>\n",
       "      <td>2019-01-01 04:56:00</td>\n",
       "      <td>735 5th St, New York City, NY 10001</td>\n",
       "    </tr>\n",
       "    <tr>\n",
       "      <th>129974</th>\n",
       "      <td>149964</td>\n",
       "      <td>AAA Batteries (4-pack)</td>\n",
       "      <td>1</td>\n",
       "      <td>2.99</td>\n",
       "      <td>2019-01-01 05:53:00</td>\n",
       "      <td>75 Jackson St, Dallas, TX 75001</td>\n",
       "    </tr>\n",
       "    <tr>\n",
       "      <th>129327</th>\n",
       "      <td>149350</td>\n",
       "      <td>USB-C Charging Cable</td>\n",
       "      <td>2</td>\n",
       "      <td>11.95</td>\n",
       "      <td>2019-01-01 06:03:00</td>\n",
       "      <td>943 2nd St, Atlanta, GA 30301</td>\n",
       "    </tr>\n",
       "  </tbody>\n",
       "</table>\n",
       "</div>"
      ],
      "text/plain": [
       "        Order ID                   Product  Quantity Ordered  Price Each  \\\n",
       "127157    147268          Wired Headphones                 1       11.99   \n",
       "127967    148041      USB-C Charging Cable                 1       11.95   \n",
       "129320    149343  Apple Airpods Headphones                 1      150.00   \n",
       "129974    149964    AAA Batteries (4-pack)                 1        2.99   \n",
       "129327    149350      USB-C Charging Cable                 2       11.95   \n",
       "\n",
       "                Order Date                        Purchase Address  \n",
       "127157 2019-01-01 03:07:00      9 Lake St, New York City, NY 10001  \n",
       "127967 2019-01-01 03:40:00  760 Church St, San Francisco, CA 94016  \n",
       "129320 2019-01-01 04:56:00     735 5th St, New York City, NY 10001  \n",
       "129974 2019-01-01 05:53:00         75 Jackson St, Dallas, TX 75001  \n",
       "129327 2019-01-01 06:03:00           943 2nd St, Atlanta, GA 30301  "
      ]
     },
     "execution_count": 75,
     "metadata": {},
     "output_type": "execute_result"
    }
   ],
   "source": [
    "df[\"Order Date\"] = pd.to_datetime(df[\"Order Date\"])\n",
    "df_sorted = df.sort_values(by=\"Order Date\")\n",
    "df_sorted.head()"
   ]
  },
  {
   "cell_type": "code",
   "execution_count": 76,
   "id": "9d64ed61",
   "metadata": {},
   "outputs": [
    {
     "name": "stdout",
     "output_type": "stream",
     "text": [
      "The average sales per month is: $ 2637625.44\n"
     ]
    },
    {
     "data": {
      "image/png": "[encoded data removed]",
      "text/plain": [
       "<Figure size 1200x500 with 1 Axes>"
      ]
     },
     "metadata": {},
     "output_type": "display_data"
    }
   ],
   "source": [
    "\n",
    "# Group the sales data by month and calculate the total sales for each month\n",
    "monthly_sales = df.groupby(pd.Grouper(key=\"Order Date\", freq=\"M\")).sum()\n",
    "\n",
    "# Calculate the average sales per month\n",
    "average_sales = monthly_sales.mean()[\"Price Each\"]\n",
    "\n",
    "print(\"The average sales per month is: $\", round(average_sales, 2))\n",
    "\n",
    " #Create a bar chart of the average sales per month\n",
    "fig, ax = plt.subplots(figsize=(12, 5))\n",
    "ax.bar(monthly_sales.index.strftime(\"%B\"), monthly_sales[\"Price Each\"],color='purple')\n",
    "ax.set_title(\"Average Sales per Month\")\n",
    "ax.set_xlabel(\"Month\")\n",
    "ax.set_ylabel(\"Average Sales(Millon)\")\n",
    "plt.show()\n"
   ]
  },
  {
   "cell_type": "markdown",
   "id": "5f997da0",
   "metadata": {},
   "source": [
    "### What is the monthly revenue?"
   ]
  },
  {
   "cell_type": "code",
   "execution_count": 77,
   "id": "102397e4",
   "metadata": {},
   "outputs": [
    {
     "name": "stdout",
     "output_type": "stream",
     "text": [
      "              Order ID  Quantity Ordered  Price Each\n",
      "Order Date                                          \n",
      "2019-01-31  1411189528             10862  1803264.98\n",
      "2019-02-28  1871052592             13449  2188884.72\n",
      "2019-03-31  2564810956             17005  2791207.83\n",
      "2019-04-30  3387347100             20558  3367671.02\n",
      "2019-05-31  3345871523             18667  3135125.13\n",
      "2019-06-30  2932976072             15253  2562025.61\n",
      "2019-07-31  3284139576             16072  2632539.56\n",
      "2019-08-31  2899373917             13448  2230345.42\n",
      "2019-09-30  2948726831             13109  2084992.09\n",
      "2019-10-31  5457110383             22703  3715554.83\n",
      "2019-11-30  5047202573             19798  3180600.68\n",
      "2019-12-31  7685904705             28114  4588415.41\n",
      "2020-01-31    10441270                41     8503.40\n"
     ]
    }
   ],
   "source": [
    "monthly_sales = df.groupby(pd.Grouper(key=\"Order Date\", freq=\"M\")).sum()\n",
    "\n",
    "print(monthly_sales)"
   ]
  },
  {
   "cell_type": "markdown",
   "id": "7834768f",
   "metadata": {},
   "source": [
    "### What are the key demographics of the customers?"
   ]
  },
  {
   "cell_type": "code",
   "execution_count": 78,
   "id": "6db18176",
   "metadata": {},
   "outputs": [
    {
     "name": "stdout",
     "output_type": "stream",
     "text": [
      "               Order ID\n",
      "Town                   \n",
      "                      1\n",
      "Austin             9509\n",
      "Portland          11980\n",
      "Seattle           14119\n",
      "Dallas            14240\n",
      "Atlanta           14253\n",
      "Boston            19092\n",
      "New York City     23848\n",
      "Los Angeles       28498\n",
      "San Francisco     42898\n"
     ]
    }
   ],
   "source": [
    "df['Purchase Address'] = df['Purchase Address'].fillna('')\n",
    "df['Town'] = df['Purchase Address'].apply(lambda x: x.split(',')[1].strip() if len(x.split(','))>1 else '')\n",
    "town_sales = df.groupby('Town').agg({'Order ID': 'nunique'})\n",
    "town_sales = town_sales.sort_values('Order ID', ascending=True)\n",
    "print(town_sales)"
   ]
  },
  {
   "cell_type": "markdown",
   "id": "49825b51",
   "metadata": {},
   "source": [
    "### Which market (country) generated the most sales on average?"
   ]
  },
  {
   "cell_type": "code",
   "execution_count": 79,
   "id": "4f212276",
   "metadata": {},
   "outputs": [
    {
     "name": "stdout",
     "output_type": "stream",
     "text": [
      "               Price Each  Order ID\n",
      "Town                               \n",
      "                     0.00         1\n",
      "Austin         1809873.61      9509\n",
      "Portland       2307747.47     11980\n",
      "Seattle        2733296.01     14119\n",
      "Dallas         2752627.82     14240\n",
      "Atlanta        2779908.20     14253\n",
      "Boston         3637409.77     19092\n",
      "New York City  4635370.83     23848\n",
      "Los Angeles    5421435.23     28498\n",
      "San Francisco  8211461.74     42898\n"
     ]
    },
    {
     "data": {
      "image/png": "[encoded data removed]",
      "text/plain": [
       "<Figure size 1300x500 with 1 Axes>"
      ]
     },
     "metadata": {},
     "output_type": "display_data"
    }
   ],
   "source": [
    "df['Purchase Address'] = df['Purchase Address'].fillna('')\n",
    "\n",
    "df['Town'] = df['Purchase Address'].apply(lambda x: x.split(',')[1].strip() if len(x.split(','))>1 else '')\n",
    "\n",
    "# Group the sales data by country and calculate the total sales and number of orders for each country\n",
    "town_sales = df.groupby('Town').agg({'Price Each': 'sum', 'Order ID': 'nunique'})\n",
    "town_sales = town_sales.sort_values('Order ID', ascending=True)\n",
    "\n",
    "print(town_sales)\n",
    "plt.figure(figsize=(13,5))\n",
    "plt.bar(town_sales.index, town_sales['Price Each'])\n",
    "plt.title('Total Sales by Town')\n",
    "plt.xlabel('Town')\n",
    "plt.ylabel('Sales(Millon)')\n",
    "plt.show()\n"
   ]
  },
  {
   "cell_type": "markdown",
   "id": "5d9a8e57",
   "metadata": {},
   "source": [
    "### When were the best- and worst-selling periods?"
   ]
  },
  {
   "cell_type": "code",
   "execution_count": 80,
   "id": "fb01bca2",
   "metadata": {},
   "outputs": [
    {
     "name": "stdout",
     "output_type": "stream",
     "text": [
      "The month with the minimum sales is January 2020.\n",
      "\n",
      "\n",
      "Order ID           7685904705.00\n",
      "Quantity Ordered        28114.00\n",
      "Price Each            4588415.41\n",
      "dtype: float64\n",
      "\n",
      "\n",
      "The month with the minimum sales is January 2020.\n",
      "\n",
      "\n",
      "Order ID           10441270.00\n",
      "Quantity Ordered         41.00\n",
      "Price Each             8503.40\n",
      "dtype: float64\n"
     ]
    }
   ],
   "source": [
    "monthly_sales = df.groupby(pd.Grouper(key=\"Order Date\", freq=\"M\")).sum()\n",
    "max_permonth=monthly_sales.max()\n",
    "min_permonth=monthly_sales.min()\n",
    "\n",
    "\n",
    "pd.options.display.float_format = '{:.2f}'.format\n",
    "\n",
    "# Calculate monthly sales\n",
    "monthly_sales = df.groupby(pd.Grouper(key=\"Order Date\", freq=\"M\")).sum()\n",
    "\n",
    "# Find the month with minimum sales\n",
    "min_month = monthly_sales['Price Each'].idxmin()\n",
    "\n",
    "# Print the result\n",
    "print(f\"The month with the minimum sales is {min_month.strftime('%B %Y')}.\")\n",
    "print('\\n')\n",
    "print(max_permonth)\n",
    "print('\\n')\n",
    "# Calculate monthly sales\n",
    "monthly_sales = df.groupby(pd.Grouper(key=\"Order Date\", freq=\"M\")).sum()\n",
    "\n",
    "# Find the month with minimum sales\n",
    "min_month = monthly_sales['Price Each'].idxmin()\n",
    "\n",
    "# Print the result\n",
    "print(f\"The month with the minimum sales is {min_month.strftime('%B %Y')}.\")\n",
    "print('\\n')\n",
    "print(min_permonth)"
   ]
  },
  {
   "cell_type": "code",
   "execution_count": 81,
   "id": "d1d1ea21",
   "metadata": {},
   "outputs": [
    {
     "data": {
      "text/html": [
       "<div>\n",
       "<style scoped>\n",
       "    .dataframe tbody tr th:only-of-type {\n",
       "        vertical-align: middle;\n",
       "    }\n",
       "\n",
       "    .dataframe tbody tr th {\n",
       "        vertical-align: top;\n",
       "    }\n",
       "\n",
       "    .dataframe thead th {\n",
       "        text-align: right;\n",
       "    }\n",
       "</style>\n",
       "<table border=\"1\" class=\"dataframe\">\n",
       "  <thead>\n",
       "    <tr style=\"text-align: right;\">\n",
       "      <th></th>\n",
       "      <th>Order ID</th>\n",
       "      <th>Product</th>\n",
       "      <th>Quantity Ordered</th>\n",
       "      <th>Price Each</th>\n",
       "      <th>Order Date</th>\n",
       "      <th>Purchase Address</th>\n",
       "      <th>Town</th>\n",
       "    </tr>\n",
       "  </thead>\n",
       "  <tbody>\n",
       "    <tr>\n",
       "      <th>0</th>\n",
       "      <td>150502</td>\n",
       "      <td>iPhone</td>\n",
       "      <td>1</td>\n",
       "      <td>700.00</td>\n",
       "      <td>2019-02-18 01:35:00</td>\n",
       "      <td>866 Spruce St, Portland, ME 04101</td>\n",
       "      <td>Portland</td>\n",
       "    </tr>\n",
       "    <tr>\n",
       "      <th>1</th>\n",
       "      <td>150503</td>\n",
       "      <td>AA Batteries (4-pack)</td>\n",
       "      <td>1</td>\n",
       "      <td>3.84</td>\n",
       "      <td>2019-02-13 07:24:00</td>\n",
       "      <td>18 13th St, San Francisco, CA 94016</td>\n",
       "      <td>San Francisco</td>\n",
       "    </tr>\n",
       "    <tr>\n",
       "      <th>2</th>\n",
       "      <td>150504</td>\n",
       "      <td>27in 4K Gaming Monitor</td>\n",
       "      <td>1</td>\n",
       "      <td>389.99</td>\n",
       "      <td>2019-02-18 09:46:00</td>\n",
       "      <td>52 6th St, New York City, NY 10001</td>\n",
       "      <td>New York City</td>\n",
       "    </tr>\n",
       "    <tr>\n",
       "      <th>3</th>\n",
       "      <td>150505</td>\n",
       "      <td>Lightning Charging Cable</td>\n",
       "      <td>1</td>\n",
       "      <td>14.95</td>\n",
       "      <td>2019-02-02 16:47:00</td>\n",
       "      <td>129 Cherry St, Atlanta, GA 30301</td>\n",
       "      <td>Atlanta</td>\n",
       "    </tr>\n",
       "    <tr>\n",
       "      <th>4</th>\n",
       "      <td>150506</td>\n",
       "      <td>AA Batteries (4-pack)</td>\n",
       "      <td>2</td>\n",
       "      <td>3.84</td>\n",
       "      <td>2019-02-28 20:32:00</td>\n",
       "      <td>548 Lincoln St, Seattle, WA 98101</td>\n",
       "      <td>Seattle</td>\n",
       "    </tr>\n",
       "  </tbody>\n",
       "</table>\n",
       "</div>"
      ],
      "text/plain": [
       "   Order ID                   Product  Quantity Ordered  Price Each  \\\n",
       "0    150502                    iPhone                 1      700.00   \n",
       "1    150503     AA Batteries (4-pack)                 1        3.84   \n",
       "2    150504    27in 4K Gaming Monitor                 1      389.99   \n",
       "3    150505  Lightning Charging Cable                 1       14.95   \n",
       "4    150506     AA Batteries (4-pack)                 2        3.84   \n",
       "\n",
       "           Order Date                     Purchase Address           Town  \n",
       "0 2019-02-18 01:35:00    866 Spruce St, Portland, ME 04101       Portland  \n",
       "1 2019-02-13 07:24:00  18 13th St, San Francisco, CA 94016  San Francisco  \n",
       "2 2019-02-18 09:46:00   52 6th St, New York City, NY 10001  New York City  \n",
       "3 2019-02-02 16:47:00     129 Cherry St, Atlanta, GA 30301        Atlanta  \n",
       "4 2019-02-28 20:32:00    548 Lincoln St, Seattle, WA 98101        Seattle  "
      ]
     },
     "execution_count": 81,
     "metadata": {},
     "output_type": "execute_result"
    }
   ],
   "source": [
    "df.head()"
   ]
  },
  {
   "cell_type": "markdown",
   "id": "c1a08e07",
   "metadata": {},
   "source": [
    "### Which products sell best? "
   ]
  },
  {
   "cell_type": "code",
   "execution_count": 82,
   "id": "16d131ce",
   "metadata": {},
   "outputs": [
    {
     "name": "stdout",
     "output_type": "stream",
     "text": [
      "Product name: Quantity Ordered    AAA Batteries (4-pack)\n",
      "dtype: object\n",
      "Total sell Product: Quantity Ordered    31017\n",
      "dtype: int64\n"
     ]
    }
   ],
   "source": [
    "\n",
    "product_best_sell=df.groupby('Product').agg({'Quantity Ordered':'sum'})\n",
    "\n",
    "product_best_sell=product_best_sell.sort_values('Quantity Ordered',ascending=True)\n",
    "\n",
    "\n",
    "product_best_sell_max=product_best_sell.max()\n",
    "\n",
    "\n",
    "print('Product name:',product_best_sell.idxmax())\n",
    "print('Total sell Product:',product_best_sell_max)\n"
   ]
  },
  {
   "cell_type": "markdown",
   "id": "ac25388d",
   "metadata": {},
   "source": [
    "### Which products should the company order more or less of?"
   ]
  },
  {
   "cell_type": "code",
   "execution_count": 83,
   "id": "1cc076ce",
   "metadata": {},
   "outputs": [
    {
     "name": "stdout",
     "output_type": "stream",
     "text": [
      "Product name: Quantity Ordered    Product\n",
      "dtype: object\n",
      "Total sell Product: Quantity Ordered    0\n",
      "dtype: int64\n"
     ]
    }
   ],
   "source": [
    "\n",
    "product_best_sell=df.groupby('Product').agg({'Quantity Ordered':'sum'})\n",
    "\n",
    "product_best_sell=product_best_sell.sort_values('Quantity Ordered',ascending=True)\n",
    "\n",
    "\n",
    "\n",
    "df_filtered = df[df['Product'] == 'Product']\n",
    "df_filtered = df_filtered.replace(' ', '')\n",
    "\n",
    "product_best_sell_max=product_best_sell.min()\n",
    "\n",
    "print('Product name:',product_best_sell.idxmin())\n",
    "print('Total sell Product:',product_best_sell_max)\n"
   ]
  }
 ],
 "metadata": {
  "kernelspec": {
   "display_name": "Python 3 (ipykernel)",
   "language": "python",
   "name": "python3"
  },
  "language_info": {
   "codemirror_mode": {
    "name": "ipython",
    "version": 3
   },
   "file_extension": ".py",
   "mimetype": "text/x-python",
   "name": "python",
   "nbconvert_exporter": "python",
   "pygments_lexer": "ipython3",
   "version": "3.9.13"
  }
 },
 "nbformat": 4,
 "nbformat_minor": 5
}
